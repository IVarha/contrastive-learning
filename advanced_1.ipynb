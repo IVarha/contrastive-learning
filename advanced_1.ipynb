{
 "cells": [
  {
   "cell_type": "code",
   "id": "initial_id",
   "metadata": {
    "collapsed": true,
    "ExecuteTime": {
     "end_time": "2025-05-22T17:15:15.037233Z",
     "start_time": "2025-05-22T17:15:14.750825Z"
    }
   },
   "source": [
    "import kagglehub\n",
    "\n",
    "# Download latest version\n",
    "path = kagglehub.dataset_download(\"ayaroshevskiy/downsampled-imagenet-64x64\")\n",
    "print(\"Path to dataset files:\", path)"
   ],
   "outputs": [
    {
     "name": "stderr",
     "output_type": "stream",
     "text": [
      "/Users/igor.varha/miniconda3/envs/samp_hum_home/lib/python3.12/site-packages/tqdm/auto.py:21: TqdmWarning: IProgress not found. Please update jupyter and ipywidgets. See https://ipywidgets.readthedocs.io/en/stable/user_install.html\n",
      "  from .autonotebook import tqdm as notebook_tqdm\n"
     ]
    },
    {
     "name": "stdout",
     "output_type": "stream",
     "text": [
      "Warning: Looks like you're using an outdated `kagglehub` version, please consider updating (latest version: 0.3.12)\n",
      "Path to dataset files: /Users/igor.varha/.cache/kagglehub/datasets/ayaroshevskiy/downsampled-imagenet-64x64/versions/1\n"
     ]
    }
   ],
   "execution_count": 1
  },
  {
   "metadata": {
    "ExecuteTime": {
     "end_time": "2025-05-22T17:15:15.152341Z",
     "start_time": "2025-05-22T17:15:15.150530Z"
    }
   },
   "cell_type": "code",
   "source": [
    "from pathlib import Path\n",
    "\n",
    "train_path = Path(path)/'train_64x64'/'train_64x64'\n",
    "test_path = Path(path)/'valid_64x64/valid_64x64'\n",
    "train_dataset_p = \"tr_dataset.pt\"\n",
    "test_dataset_p = \"te_dataset.pt\""
   ],
   "id": "f40577fe944715a",
   "outputs": [],
   "execution_count": 2
  },
  {
   "metadata": {
    "ExecuteTime": {
     "end_time": "2025-05-22T17:15:16.921401Z",
     "start_time": "2025-05-22T17:15:15.157272Z"
    }
   },
   "cell_type": "code",
   "source": [
    "from torch.optim.lr_scheduler import CosineAnnealingLR\n",
    "from image_toolkit.clustering import evaluate_clustering_on_validation_p\n",
    "import pickle\n",
    "from torch.utils.data import DataLoader\n",
    "from image_toolkit.data_processor import FragmentDataset\n",
    "import torchvision.transforms as T\n",
    "import torch\n",
    "import random\n",
    "import torchvision.transforms.functional as TF\n"
   ],
   "id": "e9d7d3302b25de43",
   "outputs": [],
   "execution_count": 3
  },
  {
   "metadata": {
    "ExecuteTime": {
     "end_time": "2025-05-22T17:15:17.800776Z",
     "start_time": "2025-05-22T17:15:16.930587Z"
    }
   },
   "cell_type": "code",
   "source": [
    "\n",
    "if Path(train_dataset_p).exists() and Path(test_dataset_p).exists():\n",
    "    train_dataset = pickle.load(open(train_dataset_p, \"rb\"))\n",
    "    test_dataset = pickle.load(open(test_dataset_p, \"rb\"))\n",
    "else:\n",
    "    test_dataset = FragmentDataset(test_path,limit=1000)\n",
    "    pickle.dump(test_dataset, open(test_dataset_p, \"wb\"))\n",
    "    train_dataset = FragmentDataset(train_path,limit=100000)\n",
    "    pickle.dump(train_dataset, open(train_dataset_p, \"wb\"))\n"
   ],
   "id": "b37c923b943e8d32",
   "outputs": [],
   "execution_count": 4
  },
  {
   "metadata": {
    "ExecuteTime": {
     "end_time": "2025-05-22T17:15:17.809509Z",
     "start_time": "2025-05-22T17:15:17.806896Z"
    }
   },
   "cell_type": "code",
   "source": [
    "#add augmentations\n",
    "\n",
    "class Random90Rotation:\n",
    "    def __call__(self, x):\n",
    "        angle = random.choice([90, 180, 270])\n",
    "        return TF.rotate(x, angle)\n",
    "\n",
    "class RandomPatchAugment:\n",
    "    def __init__(self, prob=0.5):\n",
    "        self.prob = prob\n",
    "        self.augment = T.Compose([\n",
    "            Random90Rotation(),\n",
    "            T.ColorJitter(0.1, 0.1, 0.1),\n",
    "            T.GaussianBlur(kernel_size=3),\n",
    "        ])\n",
    "    def __call__(self, patch):\n",
    "        if random.random() < self.prob:\n",
    "            return self.augment(patch)\n",
    "        return patch\n",
    "augmenter = RandomPatchAugment(prob=0.6)\n",
    "\n",
    "train_dataset.augment = True\n",
    "train_dataset.augmenter = augmenter\n",
    "test_dataset.augment = True\n",
    "test_dataset.augmenter = augmenter\n",
    "\n",
    "dataloader_test = DataLoader(test_dataset, batch_size=10, shuffle=False)\n",
    "dataloader_train = DataLoader(train_dataset, batch_size=10, shuffle=True)"
   ],
   "id": "d94e2c3e0a19739",
   "outputs": [],
   "execution_count": 5
  },
  {
   "metadata": {
    "ExecuteTime": {
     "end_time": "2025-05-22T17:15:17.835425Z",
     "start_time": "2025-05-22T17:15:17.816053Z"
    }
   },
   "cell_type": "code",
   "source": "DEVICE = torch.device(\"mps\" if torch.backends.mps.is_available() else \"cuda\" if torch.cuda.is_available() else \"cpu\")",
   "id": "ddef249fd39ded16",
   "outputs": [],
   "execution_count": 6
  },
  {
   "metadata": {
    "ExecuteTime": {
     "end_time": "2025-05-22T17:15:18.100058Z",
     "start_time": "2025-05-22T17:15:17.840677Z"
    }
   },
   "cell_type": "code",
   "source": [
    "from image_toolkit.nets import TransformerPatchCluster\n",
    "\n",
    "model = TransformerPatchCluster(embed_dim=256,nhead=8,num_layers=7).to(DEVICE) #0.72\n",
    "model.load_weights(\"best_TTC_256_8_8_ARI90(100K)/best_model_epoch_78.pth\",device=DEVICE)\n",
    "# load best model"
   ],
   "id": "756806a7334082e",
   "outputs": [
    {
     "name": "stdout",
     "output_type": "stream",
     "text": [
      "Weights loaded from best_TTC_256_8_8_ARI90(100K)/best_model_epoch_78.pth\n"
     ]
    },
    {
     "name": "stderr",
     "output_type": "stream",
     "text": [
      "/Users/igor.varha/PycharmProjects/samp_hum_home/image_toolkit/nets.py:111: FutureWarning: You are using `torch.load` with `weights_only=False` (the current default value), which uses the default pickle module implicitly. It is possible to construct malicious pickle data which will execute arbitrary code during unpickling (See https://github.com/pytorch/pytorch/blob/main/SECURITY.md#untrusted-models for more details). In a future release, the default value for `weights_only` will be flipped to `True`. This limits the functions that could be executed during unpickling. Arbitrary objects will no longer be allowed to be loaded via this mode unless they are explicitly allowlisted by the user via `torch.serialization.add_safe_globals`. We recommend you start setting `weights_only=True` for any use case where you don't have full control of the loaded file. Please open an issue on GitHub for any issues related to this experimental feature.\n",
      "  self.load_state_dict(torch.load(path, map_location=device))\n"
     ]
    }
   ],
   "execution_count": 7
  },
  {
   "metadata": {
    "ExecuteTime": {
     "end_time": "2025-05-22T17:15:43.300131Z",
     "start_time": "2025-05-22T17:15:18.107781Z"
    }
   },
   "cell_type": "code",
   "source": [
    "# test on default test set\n",
    "ari,nmi,sil = evaluate_clustering_on_validation_p(dataloader_test,model,device=DEVICE)\n",
    "print(f\"ARI : {ari}, NMI: {nmi}, Silhouette: {sil}\")"
   ],
   "id": "3e4b8cecefb0ea71",
   "outputs": [
    {
     "name": "stdout",
     "output_type": "stream",
     "text": [
      "ARI : 0.6627079427210495, NMI: 0.790216304471584, Silhouette: 0.6842788457870483\n"
     ]
    }
   ],
   "execution_count": 8
  },
  {
   "metadata": {
    "ExecuteTime": {
     "end_time": "2025-05-22T18:45:38.187334Z",
     "start_time": "2025-05-22T17:15:43.377517Z"
    }
   },
   "cell_type": "code",
   "source": [
    "#retraining model\n",
    "LR = 9e-5\n",
    "EPOCHS = 20\n",
    "optimizer = torch.optim.AdamW(model.parameters(), lr=LR)\n",
    "lr_scheduler = CosineAnnealingLR(optimizer, T_max=EPOCHS, eta_min=1e-6)\n",
    "val_losses = model.train_model(dataloader_train,\n",
    "                  dataloader_test,\n",
    "                  optimizer,\n",
    "                  lr_scheduler,\n",
    "                  epochs=EPOCHS,\n",
    "                  device=DEVICE,\n",
    "                  temperature=0.33#,top_k=5\n",
    "                  )\n",
    "\n"
   ],
   "id": "47d0acd811514bf0",
   "outputs": [
    {
     "name": "stderr",
     "output_type": "stream",
     "text": [
      "Epoch 1/20: 100%|██████████| 10000/10000 [15:44<00:00, 10.59it/s]\n"
     ]
    },
    {
     "name": "stdout",
     "output_type": "stream",
     "text": [
      "Epoch [1/20], Loss: 3.3707\n",
      "Epoch [1/20], ARI: 0.8058\n",
      "Model saved at epoch 1 with ARI: 0.8058\n",
      "Current learning rate: [8.945213115648363e-05]\n"
     ]
    },
    {
     "name": "stderr",
     "output_type": "stream",
     "text": [
      "Epoch 2/20: 100%|██████████| 10000/10000 [16:41<00:00,  9.98it/s]\n"
     ]
    },
    {
     "name": "stdout",
     "output_type": "stream",
     "text": [
      "Epoch [2/20], Loss: 3.3292\n",
      "Epoch [2/20], ARI: 0.8306\n",
      "Model saved at epoch 2 with ARI: 0.8306\n",
      "Current learning rate: [8.782201497513435e-05]\n"
     ]
    },
    {
     "name": "stderr",
     "output_type": "stream",
     "text": [
      "Epoch 3/20: 100%|██████████| 10000/10000 [16:39<00:00, 10.01it/s]\n"
     ]
    },
    {
     "name": "stdout",
     "output_type": "stream",
     "text": [
      "Epoch [3/20], Loss: 3.3139\n",
      "Epoch [3/20], ARI: 0.8292\n",
      "Current learning rate: [8.514979032638238e-05]\n"
     ]
    },
    {
     "name": "stderr",
     "output_type": "stream",
     "text": [
      "Epoch 4/20: 100%|██████████| 10000/10000 [18:11<00:00,  9.16it/s]\n"
     ]
    },
    {
     "name": "stdout",
     "output_type": "stream",
     "text": [
      "Epoch [4/20], Loss: 3.3010\n",
      "Epoch [4/20], ARI: 0.8259\n",
      "Current learning rate: [8.150125624968517e-05]\n"
     ]
    },
    {
     "name": "stderr",
     "output_type": "stream",
     "text": [
      "Epoch 5/20: 100%|██████████| 10000/10000 [17:41<00:00,  9.42it/s]\n"
     ]
    },
    {
     "name": "stdout",
     "output_type": "stream",
     "text": [
      "Epoch [5/20], Loss: 3.2908\n",
      "Epoch [5/20], ARI: 0.8387\n",
      "Model saved at epoch 5 with ARI: 0.8387\n",
      "Current learning rate: [7.696625176280137e-05]\n"
     ]
    },
    {
     "name": "stderr",
     "output_type": "stream",
     "text": [
      "Epoch 6/20:  12%|█▏        | 1226/10000 [02:29<17:53,  8.18it/s]\n"
     ]
    },
    {
     "ename": "KeyboardInterrupt",
     "evalue": "",
     "output_type": "error",
     "traceback": [
      "\u001B[31m---------------------------------------------------------------------------\u001B[39m",
      "\u001B[31mKeyboardInterrupt\u001B[39m                         Traceback (most recent call last)",
      "\u001B[36mCell\u001B[39m\u001B[36m \u001B[39m\u001B[32mIn[9]\u001B[39m\u001B[32m, line 6\u001B[39m\n\u001B[32m      4\u001B[39m optimizer = torch.optim.AdamW(model.parameters(), lr=LR)\n\u001B[32m      5\u001B[39m lr_scheduler = CosineAnnealingLR(optimizer, T_max=EPOCHS, eta_min=\u001B[32m1e-6\u001B[39m)\n\u001B[32m----> \u001B[39m\u001B[32m6\u001B[39m val_losses = model.train_model(dataloader_train,\n\u001B[32m      7\u001B[39m                   dataloader_test,\n\u001B[32m      8\u001B[39m                   optimizer,\n\u001B[32m      9\u001B[39m                   lr_scheduler,\n\u001B[32m     10\u001B[39m                   epochs=EPOCHS,\n\u001B[32m     11\u001B[39m                   device=DEVICE,\n\u001B[32m     12\u001B[39m                   temperature=\u001B[32m0.33\u001B[39m\u001B[38;5;66;03m#,top_k=5\u001B[39;00m\n\u001B[32m     13\u001B[39m                   )\n",
      "\u001B[36mFile \u001B[39m\u001B[32m~/PycharmProjects/samp_hum_home/image_toolkit/nets.py:74\u001B[39m, in \u001B[36mTransformerPatchCluster.train_model\u001B[39m\u001B[34m(self, train_loader, val_loader, optimizer, scheduler, device, epochs, temperature)\u001B[39m\n\u001B[32m     71\u001B[39m batch = batch[idx]\n\u001B[32m     72\u001B[39m labels = labels[idx]\n\u001B[32m---> \u001B[39m\u001B[32m74\u001B[39m embeddings = \u001B[38;5;28mself\u001B[39m.forward(batch)\n\u001B[32m     76\u001B[39m loss = supervised_nt_xent_loss(embeddings, labels, temperature=temperature)\n\u001B[32m     77\u001B[39m optimizer.zero_grad()\n",
      "\u001B[36mFile \u001B[39m\u001B[32m~/PycharmProjects/samp_hum_home/image_toolkit/nets.py:43\u001B[39m, in \u001B[36mTransformerPatchCluster.forward\u001B[39m\u001B[34m(self, patches)\u001B[39m\n\u001B[32m     40\u001B[39m feats = feats.mean(dim=[\u001B[32m2\u001B[39m, \u001B[32m3\u001B[39m])         \u001B[38;5;66;03m# [B*N, 512]\u001B[39;00m\n\u001B[32m     41\u001B[39m feats = \u001B[38;5;28mself\u001B[39m.fc(feats)                 \u001B[38;5;66;03m# [B*N, embed_dim]\u001B[39;00m\n\u001B[32m---> \u001B[39m\u001B[32m43\u001B[39m feats = \u001B[38;5;28mself\u001B[39m.transformer(feats)        \u001B[38;5;66;03m# [B, N, embed_dim]\u001B[39;00m\n\u001B[32m     45\u001B[39m \u001B[38;5;28;01mreturn\u001B[39;00m F.normalize(feats, dim=\u001B[32m1\u001B[39m)\n",
      "\u001B[36mFile \u001B[39m\u001B[32m~/miniconda3/envs/samp_hum_home/lib/python3.12/site-packages/torch/nn/modules/module.py:1736\u001B[39m, in \u001B[36mModule._wrapped_call_impl\u001B[39m\u001B[34m(self, *args, **kwargs)\u001B[39m\n\u001B[32m   1734\u001B[39m     \u001B[38;5;28;01mreturn\u001B[39;00m \u001B[38;5;28mself\u001B[39m._compiled_call_impl(*args, **kwargs)  \u001B[38;5;66;03m# type: ignore[misc]\u001B[39;00m\n\u001B[32m   1735\u001B[39m \u001B[38;5;28;01melse\u001B[39;00m:\n\u001B[32m-> \u001B[39m\u001B[32m1736\u001B[39m     \u001B[38;5;28;01mreturn\u001B[39;00m \u001B[38;5;28mself\u001B[39m._call_impl(*args, **kwargs)\n",
      "\u001B[36mFile \u001B[39m\u001B[32m~/miniconda3/envs/samp_hum_home/lib/python3.12/site-packages/torch/nn/modules/module.py:1747\u001B[39m, in \u001B[36mModule._call_impl\u001B[39m\u001B[34m(self, *args, **kwargs)\u001B[39m\n\u001B[32m   1742\u001B[39m \u001B[38;5;66;03m# If we don't have any hooks, we want to skip the rest of the logic in\u001B[39;00m\n\u001B[32m   1743\u001B[39m \u001B[38;5;66;03m# this function, and just call forward.\u001B[39;00m\n\u001B[32m   1744\u001B[39m \u001B[38;5;28;01mif\u001B[39;00m \u001B[38;5;129;01mnot\u001B[39;00m (\u001B[38;5;28mself\u001B[39m._backward_hooks \u001B[38;5;129;01mor\u001B[39;00m \u001B[38;5;28mself\u001B[39m._backward_pre_hooks \u001B[38;5;129;01mor\u001B[39;00m \u001B[38;5;28mself\u001B[39m._forward_hooks \u001B[38;5;129;01mor\u001B[39;00m \u001B[38;5;28mself\u001B[39m._forward_pre_hooks\n\u001B[32m   1745\u001B[39m         \u001B[38;5;129;01mor\u001B[39;00m _global_backward_pre_hooks \u001B[38;5;129;01mor\u001B[39;00m _global_backward_hooks\n\u001B[32m   1746\u001B[39m         \u001B[38;5;129;01mor\u001B[39;00m _global_forward_hooks \u001B[38;5;129;01mor\u001B[39;00m _global_forward_pre_hooks):\n\u001B[32m-> \u001B[39m\u001B[32m1747\u001B[39m     \u001B[38;5;28;01mreturn\u001B[39;00m forward_call(*args, **kwargs)\n\u001B[32m   1749\u001B[39m result = \u001B[38;5;28;01mNone\u001B[39;00m\n\u001B[32m   1750\u001B[39m called_always_called_hooks = \u001B[38;5;28mset\u001B[39m()\n",
      "\u001B[36mFile \u001B[39m\u001B[32m~/miniconda3/envs/samp_hum_home/lib/python3.12/site-packages/torch/nn/modules/transformer.py:511\u001B[39m, in \u001B[36mTransformerEncoder.forward\u001B[39m\u001B[34m(self, src, mask, src_key_padding_mask, is_causal)\u001B[39m\n\u001B[32m    508\u001B[39m is_causal = _detect_is_causal_mask(mask, is_causal, seq_len)\n\u001B[32m    510\u001B[39m \u001B[38;5;28;01mfor\u001B[39;00m mod \u001B[38;5;129;01min\u001B[39;00m \u001B[38;5;28mself\u001B[39m.layers:\n\u001B[32m--> \u001B[39m\u001B[32m511\u001B[39m     output = mod(\n\u001B[32m    512\u001B[39m         output,\n\u001B[32m    513\u001B[39m         src_mask=mask,\n\u001B[32m    514\u001B[39m         is_causal=is_causal,\n\u001B[32m    515\u001B[39m         src_key_padding_mask=src_key_padding_mask_for_layers,\n\u001B[32m    516\u001B[39m     )\n\u001B[32m    518\u001B[39m \u001B[38;5;28;01mif\u001B[39;00m convert_to_nested:\n\u001B[32m    519\u001B[39m     output = output.to_padded_tensor(\u001B[32m0.0\u001B[39m, src.size())\n",
      "\u001B[36mFile \u001B[39m\u001B[32m~/miniconda3/envs/samp_hum_home/lib/python3.12/site-packages/torch/nn/modules/module.py:1736\u001B[39m, in \u001B[36mModule._wrapped_call_impl\u001B[39m\u001B[34m(self, *args, **kwargs)\u001B[39m\n\u001B[32m   1734\u001B[39m     \u001B[38;5;28;01mreturn\u001B[39;00m \u001B[38;5;28mself\u001B[39m._compiled_call_impl(*args, **kwargs)  \u001B[38;5;66;03m# type: ignore[misc]\u001B[39;00m\n\u001B[32m   1735\u001B[39m \u001B[38;5;28;01melse\u001B[39;00m:\n\u001B[32m-> \u001B[39m\u001B[32m1736\u001B[39m     \u001B[38;5;28;01mreturn\u001B[39;00m \u001B[38;5;28mself\u001B[39m._call_impl(*args, **kwargs)\n",
      "\u001B[36mFile \u001B[39m\u001B[32m~/miniconda3/envs/samp_hum_home/lib/python3.12/site-packages/torch/nn/modules/module.py:1747\u001B[39m, in \u001B[36mModule._call_impl\u001B[39m\u001B[34m(self, *args, **kwargs)\u001B[39m\n\u001B[32m   1742\u001B[39m \u001B[38;5;66;03m# If we don't have any hooks, we want to skip the rest of the logic in\u001B[39;00m\n\u001B[32m   1743\u001B[39m \u001B[38;5;66;03m# this function, and just call forward.\u001B[39;00m\n\u001B[32m   1744\u001B[39m \u001B[38;5;28;01mif\u001B[39;00m \u001B[38;5;129;01mnot\u001B[39;00m (\u001B[38;5;28mself\u001B[39m._backward_hooks \u001B[38;5;129;01mor\u001B[39;00m \u001B[38;5;28mself\u001B[39m._backward_pre_hooks \u001B[38;5;129;01mor\u001B[39;00m \u001B[38;5;28mself\u001B[39m._forward_hooks \u001B[38;5;129;01mor\u001B[39;00m \u001B[38;5;28mself\u001B[39m._forward_pre_hooks\n\u001B[32m   1745\u001B[39m         \u001B[38;5;129;01mor\u001B[39;00m _global_backward_pre_hooks \u001B[38;5;129;01mor\u001B[39;00m _global_backward_hooks\n\u001B[32m   1746\u001B[39m         \u001B[38;5;129;01mor\u001B[39;00m _global_forward_hooks \u001B[38;5;129;01mor\u001B[39;00m _global_forward_pre_hooks):\n\u001B[32m-> \u001B[39m\u001B[32m1747\u001B[39m     \u001B[38;5;28;01mreturn\u001B[39;00m forward_call(*args, **kwargs)\n\u001B[32m   1749\u001B[39m result = \u001B[38;5;28;01mNone\u001B[39;00m\n\u001B[32m   1750\u001B[39m called_always_called_hooks = \u001B[38;5;28mset\u001B[39m()\n",
      "\u001B[36mFile \u001B[39m\u001B[32m~/miniconda3/envs/samp_hum_home/lib/python3.12/site-packages/torch/nn/modules/transformer.py:906\u001B[39m, in \u001B[36mTransformerEncoderLayer.forward\u001B[39m\u001B[34m(self, src, src_mask, src_key_padding_mask, is_causal)\u001B[39m\n\u001B[32m    901\u001B[39m \u001B[38;5;28;01melse\u001B[39;00m:\n\u001B[32m    902\u001B[39m     x = \u001B[38;5;28mself\u001B[39m.norm1(\n\u001B[32m    903\u001B[39m         x\n\u001B[32m    904\u001B[39m         + \u001B[38;5;28mself\u001B[39m._sa_block(x, src_mask, src_key_padding_mask, is_causal=is_causal)\n\u001B[32m    905\u001B[39m     )\n\u001B[32m--> \u001B[39m\u001B[32m906\u001B[39m     x = \u001B[38;5;28mself\u001B[39m.norm2(x + \u001B[38;5;28mself\u001B[39m._ff_block(x))\n\u001B[32m    908\u001B[39m \u001B[38;5;28;01mreturn\u001B[39;00m x\n",
      "\u001B[36mFile \u001B[39m\u001B[32m~/miniconda3/envs/samp_hum_home/lib/python3.12/site-packages/torch/nn/modules/transformer.py:931\u001B[39m, in \u001B[36mTransformerEncoderLayer._ff_block\u001B[39m\u001B[34m(self, x)\u001B[39m\n\u001B[32m    930\u001B[39m \u001B[38;5;28;01mdef\u001B[39;00m\u001B[38;5;250m \u001B[39m\u001B[34m_ff_block\u001B[39m(\u001B[38;5;28mself\u001B[39m, x: Tensor) -> Tensor:\n\u001B[32m--> \u001B[39m\u001B[32m931\u001B[39m     x = \u001B[38;5;28mself\u001B[39m.linear2(\u001B[38;5;28mself\u001B[39m.dropout(\u001B[38;5;28mself\u001B[39m.activation(\u001B[38;5;28mself\u001B[39m.linear1(x))))\n\u001B[32m    932\u001B[39m     \u001B[38;5;28;01mreturn\u001B[39;00m \u001B[38;5;28mself\u001B[39m.dropout2(x)\n",
      "\u001B[36mFile \u001B[39m\u001B[32m~/miniconda3/envs/samp_hum_home/lib/python3.12/site-packages/torch/nn/modules/module.py:1736\u001B[39m, in \u001B[36mModule._wrapped_call_impl\u001B[39m\u001B[34m(self, *args, **kwargs)\u001B[39m\n\u001B[32m   1734\u001B[39m     \u001B[38;5;28;01mreturn\u001B[39;00m \u001B[38;5;28mself\u001B[39m._compiled_call_impl(*args, **kwargs)  \u001B[38;5;66;03m# type: ignore[misc]\u001B[39;00m\n\u001B[32m   1735\u001B[39m \u001B[38;5;28;01melse\u001B[39;00m:\n\u001B[32m-> \u001B[39m\u001B[32m1736\u001B[39m     \u001B[38;5;28;01mreturn\u001B[39;00m \u001B[38;5;28mself\u001B[39m._call_impl(*args, **kwargs)\n",
      "\u001B[36mFile \u001B[39m\u001B[32m~/miniconda3/envs/samp_hum_home/lib/python3.12/site-packages/torch/nn/modules/module.py:1747\u001B[39m, in \u001B[36mModule._call_impl\u001B[39m\u001B[34m(self, *args, **kwargs)\u001B[39m\n\u001B[32m   1742\u001B[39m \u001B[38;5;66;03m# If we don't have any hooks, we want to skip the rest of the logic in\u001B[39;00m\n\u001B[32m   1743\u001B[39m \u001B[38;5;66;03m# this function, and just call forward.\u001B[39;00m\n\u001B[32m   1744\u001B[39m \u001B[38;5;28;01mif\u001B[39;00m \u001B[38;5;129;01mnot\u001B[39;00m (\u001B[38;5;28mself\u001B[39m._backward_hooks \u001B[38;5;129;01mor\u001B[39;00m \u001B[38;5;28mself\u001B[39m._backward_pre_hooks \u001B[38;5;129;01mor\u001B[39;00m \u001B[38;5;28mself\u001B[39m._forward_hooks \u001B[38;5;129;01mor\u001B[39;00m \u001B[38;5;28mself\u001B[39m._forward_pre_hooks\n\u001B[32m   1745\u001B[39m         \u001B[38;5;129;01mor\u001B[39;00m _global_backward_pre_hooks \u001B[38;5;129;01mor\u001B[39;00m _global_backward_hooks\n\u001B[32m   1746\u001B[39m         \u001B[38;5;129;01mor\u001B[39;00m _global_forward_hooks \u001B[38;5;129;01mor\u001B[39;00m _global_forward_pre_hooks):\n\u001B[32m-> \u001B[39m\u001B[32m1747\u001B[39m     \u001B[38;5;28;01mreturn\u001B[39;00m forward_call(*args, **kwargs)\n\u001B[32m   1749\u001B[39m result = \u001B[38;5;28;01mNone\u001B[39;00m\n\u001B[32m   1750\u001B[39m called_always_called_hooks = \u001B[38;5;28mset\u001B[39m()\n",
      "\u001B[36mFile \u001B[39m\u001B[32m~/miniconda3/envs/samp_hum_home/lib/python3.12/site-packages/torch/nn/modules/dropout.py:70\u001B[39m, in \u001B[36mDropout.forward\u001B[39m\u001B[34m(self, input)\u001B[39m\n\u001B[32m     69\u001B[39m \u001B[38;5;28;01mdef\u001B[39;00m\u001B[38;5;250m \u001B[39m\u001B[34mforward\u001B[39m(\u001B[38;5;28mself\u001B[39m, \u001B[38;5;28minput\u001B[39m: Tensor) -> Tensor:\n\u001B[32m---> \u001B[39m\u001B[32m70\u001B[39m     \u001B[38;5;28;01mreturn\u001B[39;00m F.dropout(\u001B[38;5;28minput\u001B[39m, \u001B[38;5;28mself\u001B[39m.p, \u001B[38;5;28mself\u001B[39m.training, \u001B[38;5;28mself\u001B[39m.inplace)\n",
      "\u001B[36mFile \u001B[39m\u001B[32m~/miniconda3/envs/samp_hum_home/lib/python3.12/site-packages/torch/nn/functional.py:1425\u001B[39m, in \u001B[36mdropout\u001B[39m\u001B[34m(input, p, training, inplace)\u001B[39m\n\u001B[32m   1422\u001B[39m \u001B[38;5;28;01mif\u001B[39;00m p < \u001B[32m0.0\u001B[39m \u001B[38;5;129;01mor\u001B[39;00m p > \u001B[32m1.0\u001B[39m:\n\u001B[32m   1423\u001B[39m     \u001B[38;5;28;01mraise\u001B[39;00m \u001B[38;5;167;01mValueError\u001B[39;00m(\u001B[33mf\u001B[39m\u001B[33m\"\u001B[39m\u001B[33mdropout probability has to be between 0 and 1, but got \u001B[39m\u001B[38;5;132;01m{\u001B[39;00mp\u001B[38;5;132;01m}\u001B[39;00m\u001B[33m\"\u001B[39m)\n\u001B[32m   1424\u001B[39m \u001B[38;5;28;01mreturn\u001B[39;00m (\n\u001B[32m-> \u001B[39m\u001B[32m1425\u001B[39m     _VF.dropout_(\u001B[38;5;28minput\u001B[39m, p, training) \u001B[38;5;28;01mif\u001B[39;00m inplace \u001B[38;5;28;01melse\u001B[39;00m _VF.dropout(\u001B[38;5;28minput\u001B[39m, p, training)\n\u001B[32m   1426\u001B[39m )\n",
      "\u001B[31mKeyboardInterrupt\u001B[39m: "
     ]
    }
   ],
   "execution_count": 9
  },
  {
   "metadata": {
    "ExecuteTime": {
     "end_time": "2025-05-22T18:46:41.534569Z",
     "start_time": "2025-05-22T18:46:12.243608Z"
    }
   },
   "cell_type": "code",
   "source": [
    "# test on default test set\n",
    "ari,nmi,sil = evaluate_clustering_on_validation_p(dataloader_test,model,device=DEVICE)\n",
    "print(f\"ARI : {ari}, NMI: {nmi}, Silhouette: {sil}\")"
   ],
   "id": "138286d547a861a1",
   "outputs": [
    {
     "name": "stdout",
     "output_type": "stream",
     "text": [
      "ARI : 0.849904820242774, NMI: 0.9090903991679766, Silhouette: 0.7769865393638611\n"
     ]
    }
   ],
   "execution_count": 10
  },
  {
   "metadata": {},
   "cell_type": "code",
   "outputs": [],
   "execution_count": null,
   "source": "",
   "id": "d446bedf0621bcc8"
  }
 ],
 "metadata": {
  "kernelspec": {
   "display_name": "Python 3",
   "language": "python",
   "name": "python3"
  },
  "language_info": {
   "codemirror_mode": {
    "name": "ipython",
    "version": 2
   },
   "file_extension": ".py",
   "mimetype": "text/x-python",
   "name": "python",
   "nbconvert_exporter": "python",
   "pygments_lexer": "ipython2",
   "version": "2.7.6"
  }
 },
 "nbformat": 4,
 "nbformat_minor": 5
}
